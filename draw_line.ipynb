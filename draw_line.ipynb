{
 "cells": [
  {
   "cell_type": "code",
   "execution_count": null,
   "metadata": {},
   "outputs": [],
   "source": [
    "import cv2\n",
    "\n",
    "img = cv2.imread('./img/blank_500.jpg')\n",
    "\n",
    "cv2.line(img, (50, 50), (150, 50), (255, 0, 0))\n",
    "cv2.line(img, (200, 50), (300, 50), (0, 255, 0))\n",
    "cv2.line(img, (350, 50), (450, 50), (0, 255))\n",
    "\n",
    "cv2.line(img, (100, 100), (400, 100), (255, 255, 0), 10)\n",
    "cv2.line(img, (100, 150), (400, 150), (255, 0, 255), 10)\n",
    "cv2.line(img, (100, 200), (400, 200), (0, 255, 255), 10)\n",
    "cv2.line(img, (100, 250), (400, 250), (0, 0, 0), 10)\n",
    "\n",
    "cv2.line(img, (100, 350), (400, 400), (0, 0, 255), 20, cv2.LINE_4)\n",
    "cv2.line(img, (100, 400), (400, 450), (0, 0, 255), 20, cv2.LINE_8)\n",
    "cv2.line(img, (100, 450), (400, 500), (0, 0, 255), 20, cv2.LINE_AA)\n",
    "cv2.line(img, (0, 0), (500, 500), (0, 0, 255))\n",
    "\n",
    "cv2.imshow('lines', img)\n",
    "cv2.waitKey(0)\n",
    "cv2.destroyAllWindows()"
   ]
  },
  {
   "cell_type": "code",
   "execution_count": null,
   "metadata": {},
   "outputs": [],
   "source": []
  }
 ],
 "metadata": {
  "kernelspec": {
   "display_name": "Python 3",
   "language": "python",
   "name": "python3"
  },
  "language_info": {
   "codemirror_mode": {
    "name": "ipython",
    "version": 3
   },
   "file_extension": ".py",
   "mimetype": "text/x-python",
   "name": "python",
   "nbconvert_exporter": "python",
   "pygments_lexer": "ipython3",
   "version": "3.8.5"
  }
 },
 "nbformat": 4,
 "nbformat_minor": 4
}
