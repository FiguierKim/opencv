{
 "cells": [
  {
   "cell_type": "code",
   "execution_count": null,
   "metadata": {},
   "outputs": [],
   "source": [
    "import cv2\n",
    "\n",
    "rate = 15\n",
    "\n",
    "#하르 캐스케이드 검출기 생성\n",
    "face_cascade = cv2.CascadeClassifier('./data/haarcascade_frontalface_default.xml')\n",
    "\n",
    "cap = cv2.VideoCapture(0)\n",
    "\n",
    "while cap.isOpened():\n",
    "    ret, frame = cap.read()\n",
    "    gray = cv2.cvtColor(frame, cv2.COLOR_BGR2GRAY)\n",
    "    faces = face_cascade.detectMultiScale(gray, scaleFactor = 1.3, minNeighbors = 5, minSize = (80, 80))\n",
    "    \n",
    "    for (x, y, w, h) in faces:\n",
    "        x = x - 5\n",
    "        y = y - 15\n",
    "        w = w + 10\n",
    "        h = h + 30\n",
    "        roi = frame[y:y+h, x:x+w]\n",
    "        roi = cv2.resize(roi, (w//rate, h//rate))\n",
    "        \n",
    "        roi = cv2.resize(roi, (w, h), interpolation = cv2.INTER_AREA)\n",
    "        frame[y:y+h, x:x+w] = roi\n",
    "        \n",
    "    cv2.imshow('mosaic', frame)\n",
    "    if cv2.waitKey(1) == 27:\n",
    "        break\n",
    "        \n",
    "cap.release()\n",
    "cv2.destroyAllWindows\n",
    "    "
   ]
  }
 ],
 "metadata": {
  "kernelspec": {
   "display_name": "Python 3",
   "language": "python",
   "name": "python3"
  },
  "language_info": {
   "codemirror_mode": {
    "name": "ipython",
    "version": 3
   },
   "file_extension": ".py",
   "mimetype": "text/x-python",
   "name": "python",
   "nbconvert_exporter": "python",
   "pygments_lexer": "ipython3",
   "version": "3.8.5"
  }
 },
 "nbformat": 4,
 "nbformat_minor": 4
}
