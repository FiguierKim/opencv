{
 "cells": [
  {
   "cell_type": "code",
   "execution_count": null,
   "metadata": {},
   "outputs": [],
   "source": [
    "import cv2\n",
    "\n",
    "img = cv2.imread('./img/blank_500.jpg')\n",
    "\n",
    "cv2.rectangle(img, (50, 50), (150, 150), (255, 0, 0))\n",
    "cv2.rectangle(img, (300, 300), (100, 100), (0, 255, 0), 10)\n",
    "cv2.rectangle(img, (450, 200), (200, 450), (0, 0, 255), -1)\n",
    "\n",
    "cv2.imshow('rectangle', img)\n",
    "cv2.waitKey(0)\n",
    "cv2.destroyAllWindows()"
   ]
  }
 ],
 "metadata": {
  "kernelspec": {
   "display_name": "Python 3",
   "language": "python",
   "name": "python3"
  },
  "language_info": {
   "codemirror_mode": {
    "name": "ipython",
    "version": 3
   },
   "file_extension": ".py",
   "mimetype": "text/x-python",
   "name": "python",
   "nbconvert_exporter": "python",
   "pygments_lexer": "ipython3",
   "version": "3.8.5"
  }
 },
 "nbformat": 4,
 "nbformat_minor": 4
}
